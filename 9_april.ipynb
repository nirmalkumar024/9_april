{
 "cells": [
  {
   "cell_type": "markdown",
   "id": "2d45501a-a241-4c9d-a6b0-38352334a8d6",
   "metadata": {},
   "source": [
    "Q1. What is Bayes' theorem?"
   ]
  },
  {
   "cell_type": "markdown",
   "id": "8d307647-f1a9-4df4-b923-ca43fcc90c6a",
   "metadata": {},
   "source": [
    "Bayes' Theorem, named after 18th-century British mathematician Thomas Bayes, is a mathematical formula for determining conditional probability. Conditional probability is the likelihood of an outcome occurring, based on a previous outcome having occurred in similar circumstances."
   ]
  },
  {
   "cell_type": "markdown",
   "id": "ea2453d4-243a-4e7f-ad42-db84a64472bf",
   "metadata": {},
   "source": [
    "Q2. What is the formula for Bayes' theorem?"
   ]
  },
  {
   "cell_type": "markdown",
   "id": "b07f7fef-e051-440b-a8e4-64b414668b45",
   "metadata": {},
   "source": [
    "P(A ∣ B) is the conditional probability of event A occurring, given that B is true. P(B ∣ A) is the conditional probability of event B occurring, given that A is true. P(A) and P(B) are the probabilities of A and B occurring independently of one another"
   ]
  },
  {
   "cell_type": "markdown",
   "id": "e1373b23-f6ad-469a-8d39-326ab5905b48",
   "metadata": {},
   "source": [
    "Q3. How is Bayes' theorem used in practice?"
   ]
  },
  {
   "cell_type": "markdown",
   "id": "3355a8bc-3957-4f45-ae29-9688cc1d1f83",
   "metadata": {},
   "source": [
    "Bayes' Theorem thus gives the probability of an event based on new information that is or may be related to that event. The formula also can be used to determine how the probability of an event occurring may be affected by hypothetical new information, supposing the new information will turn out to be true."
   ]
  },
  {
   "cell_type": "markdown",
   "id": "3f6350eb-0456-4d4e-95f9-92ebce9454b5",
   "metadata": {},
   "source": [
    "Q4. What is the relationship between Bayes' theorem and conditional probability?"
   ]
  },
  {
   "cell_type": "markdown",
   "id": "1e11bf63-6424-4214-9f49-8ba406733bae",
   "metadata": {},
   "source": [
    "Bayes' theorem is a formula that describes how to update the probabilities of hypotheses when given evidence. It follows simply from the axioms of conditional probability, but can be used to powerfully reason about a wide range of problems involving belief updates.\n",
    "Conditional probability refers to the chances that some outcome occurs given that another event has also occurred. It is often stated as the probability of B given A and is written as P(B|A), where the probability of B depends on that of A happening.\n",
    "\n",
    "Note:- As we seen the bayes' theorem there have outcome based on the previous outcome, but conditional probality are outcome have deceded by the dependent varible."
   ]
  },
  {
   "cell_type": "markdown",
   "id": "a454d9a2-a7ec-4b30-88a0-e9cf15b4c6f5",
   "metadata": {},
   "source": [
    "Q5. How do you choose which type of Naive Bayes classifier to use for any given problem?"
   ]
  },
  {
   "cell_type": "markdown",
   "id": "e5d7d2e2-3368-430c-9ab0-791c71299f61",
   "metadata": {},
   "source": [
    "We can choose the naive bayes classifier based on the used and their priority, there have sebral no. of classifier are given but we can choose it based on the use of match of their outcome."
   ]
  },
  {
   "cell_type": "markdown",
   "id": "629d5fe7-1135-4b56-b6d4-0a63ea353ee7",
   "metadata": {},
   "source": [
    "You have a dataset with two features, X1 and X2, and two possible classes, A and B. You want to use Naive\n",
    "Bayes to classify a new instance with features X1 = 3 and X2 = 4. The following table shows the frequency of\n",
    "each feature value for each class:-\n",
    "\n",
    "Class X1=1 X1=2 X1=3 X2=1 X2=2 X2=3 X2=4\n",
    "A 3 3 4 4 3 3 3\n",
    "B 2 2 1 2 2 2 3"
   ]
  },
  {
   "cell_type": "code",
   "execution_count": null,
   "id": "ef47d906-d0f2-40d4-b130-52e5e3866616",
   "metadata": {},
   "outputs": [],
   "source": [
    "A =[3,3,4,4,3,3,3]\n",
    "B =[2,2,1,2,2,2,3]"
   ]
  },
  {
   "cell_type": "code",
   "execution_count": null,
   "id": "fc0c2af0-7a72-4b6a-a0b4-10044088c937",
   "metadata": {},
   "outputs": [],
   "source": [
    "P(Student | Female) = [P(A ∩ B)] / [P(B)] = 30/40 = 0.75"
   ]
  }
 ],
 "metadata": {
  "kernelspec": {
   "display_name": "Python 3 (ipykernel)",
   "language": "python",
   "name": "python3"
  },
  "language_info": {
   "codemirror_mode": {
    "name": "ipython",
    "version": 3
   },
   "file_extension": ".py",
   "mimetype": "text/x-python",
   "name": "python",
   "nbconvert_exporter": "python",
   "pygments_lexer": "ipython3",
   "version": "3.10.8"
  }
 },
 "nbformat": 4,
 "nbformat_minor": 5
}
